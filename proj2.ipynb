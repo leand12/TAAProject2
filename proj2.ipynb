{
 "cells": [
  {
   "cell_type": "code",
   "execution_count": 1,
   "metadata": {},
   "outputs": [],
   "source": [
    "import numpy as np\n",
    "from matplotlib import pyplot as plt\n",
    "\n",
    "from os import listdir\n",
    "from os.path import join\n",
    "from scipy.io import wavfile\n",
    "\n",
    "import sys\n",
    "\n",
    "import librosa\n",
    "import librosa.display\n",
    "\n",
    "import tensorflow as tf\n",
    "from tensorflow.keras.layers.experimental import preprocessing\n",
    "from tensorflow.keras import layers\n",
    "from tensorflow.keras import models\n",
    "from keras.optimizers import Adam\n",
    "\n",
    "\n",
    "from sklearn.model_selection import train_test_split\n",
    "\n"
   ]
  },
  {
   "cell_type": "code",
   "execution_count": 2,
   "metadata": {},
   "outputs": [],
   "source": [
    "def trim_silence(audio, n_noise_samples=1000, noise_factor=1.0, mean_filter_size=100):\n",
    "    \"\"\" Removes the silence at the beginning and end of the passed audio data\n",
    "    Fits noise based on the last n_noise_samples samples in the period\n",
    "    Finds where the mean-filtered magnitude > noise\n",
    "    :param audio: numpy array of audio\n",
    "    :return: a trimmed numpy array\n",
    "    \"\"\"\n",
    "    start = 0\n",
    "    end = len(audio)-1\n",
    "\n",
    "    mag = abs(audio)\n",
    "\n",
    "    noise_sample_period = mag[end-n_noise_samples:end]\n",
    "    noise_threshold = noise_sample_period.max()*noise_factor\n",
    "\n",
    "    mag_mean = np.convolve(mag, [1/float(mean_filter_size)]*mean_filter_size, 'same')\n",
    "\n",
    "    # find onset\n",
    "    for idx, point in enumerate(mag_mean):\n",
    "        if point > noise_threshold:\n",
    "            start = idx\n",
    "            break\n",
    "\n",
    "    # Reverse the array for trimming the end\n",
    "    for idx, point in enumerate(mag_mean[::-1]):\n",
    "        if point > noise_threshold:\n",
    "            end = len(audio) - idx\n",
    "            break\n",
    "\n",
    "    return audio[start:end]"
   ]
  },
  {
   "cell_type": "code",
   "execution_count": 3,
   "metadata": {},
   "outputs": [],
   "source": [
    "def pad_trunc(aud, max_ms):\n",
    "    sig, sr = aud\n",
    "    num_rows, sig_len = sig.shape\n",
    "    max_len = sr//1000 * max_ms\n",
    "\n",
    "    if (sig_len > max_len):\n",
    "      # Truncate the signal to the given length\n",
    "      sig = sig[:,:max_len]\n",
    "\n",
    "    elif (sig_len < max_len):\n",
    "      # Length of padding to add at the beginning and end of the signal\n",
    "      pad_begin_len = random.randint(0, max_len - sig_len)\n",
    "      pad_end_len = max_len - sig_len - pad_begin_len\n",
    "\n",
    "      # Pad with 0s\n",
    "      pad_begin = torch.zeros((num_rows, pad_begin_len))\n",
    "      pad_end = torch.zeros((num_rows, pad_end_len))\n",
    "\n",
    "      sig = torch.cat((pad_begin, sig, pad_end), 1)\n",
    "      \n",
    "    return (sig, sr)"
   ]
  },
  {
   "cell_type": "code",
   "execution_count": 4,
   "metadata": {},
   "outputs": [],
   "source": [
    "def get_spectrogram(waveform):\n",
    "  # Padding for files with less than 16000 samples\n",
    "  zero_padding = tf.zeros([max_size] - tf.shape(waveform), dtype=tf.float32)\n",
    "\n",
    "  # Concatenate audio with padding so that all audio clips will be of the \n",
    "  # same length\n",
    "  waveform = tf.cast(waveform, tf.float32)\n",
    "  equal_length = tf.concat([waveform, zero_padding], 0)\n",
    "  spectrogram = tf.signal.stft(\n",
    "      equal_length, frame_length=255, frame_step=128)\n",
    "\n",
    "  spectrogram = tf.abs(spectrogram)\n",
    "\n",
    "  return spectrogram"
   ]
  },
  {
   "cell_type": "code",
   "execution_count": 5,
   "metadata": {},
   "outputs": [],
   "source": [
    "def plot_spectrogram(spectrogram, ax):\n",
    "  # Convert to frequencies to log scale and transpose so that the time is\n",
    "  # represented in the x-axis (columns).\n",
    "  log_spec = np.log(spectrogram.T)\n",
    "  height = log_spec.shape[0]\n",
    "  width = log_spec.shape[1]\n",
    "  X = np.linspace(0, np.size(spectrogram), num=width, dtype=int)\n",
    "  Y = range(height)\n",
    "  ax.pcolormesh(X, Y, log_spec)\n"
   ]
  },
  {
   "cell_type": "code",
   "execution_count": 6,
   "metadata": {},
   "outputs": [
    {
     "name": "stdout",
     "output_type": "stream",
     "text": [
      "7998\n"
     ]
    }
   ],
   "source": [
    "files = 'recordings/'\n",
    "ds_files = listdir(files)\n",
    "\n",
    "X = []\n",
    "y = []\n",
    "\n",
    "s = []\n",
    "\n",
    "for file in ds_files:\n",
    "    label = int(file.split(\"_\")[0])\n",
    "    rate, data = wavfile.read(join(files, file))\n",
    "    \n",
    "    trimmed_data = trim_silence(data.astype(np.float16))\n",
    "    X.append(trimmed_data)\n",
    "    y.append(label)\n",
    "    \n",
    "    s.append(trimmed_data.shape[0])\n",
    "    \n",
    "\n",
    "max_size = np.max(s)\n",
    "\n",
    "print(max_size)\n",
    "# pad\n",
    "X = [ np.pad(x, (0, max_size - x.shape[0])) for x in X ]\n",
    "\n",
    "\n"
   ]
  },
  {
   "cell_type": "code",
   "execution_count": 7,
   "metadata": {},
   "outputs": [
    {
     "name": "stdout",
     "output_type": "stream",
     "text": [
      "1800 600 600\n"
     ]
    }
   ],
   "source": [
    "train_ratio = 0.60\n",
    "validation_ratio = 0.20\n",
    "test_ratio = 0.20\n",
    "\n",
    "# train is now 60% of the entire data set\n",
    "# the _junk suffix means that we drop that variable completely\n",
    "x_train, x_test, y_train, y_test = train_test_split(X, y, test_size=1 - train_ratio)\n",
    "\n",
    "# test is now 20% of the initial data set\n",
    "# validation is now 20% of the initial data set\n",
    "x_val, x_test, y_val, y_test = train_test_split(x_test, y_test, test_size=test_ratio/(test_ratio + validation_ratio)) \n",
    "\n",
    "print(len(x_train), len(x_val), len(x_test))"
   ]
  },
  {
   "cell_type": "code",
   "execution_count": 8,
   "metadata": {},
   "outputs": [
    {
     "data": {
      "text/plain": [
       "[Text(0.5, 1.0, 'Mel-frequency spectrogram')]"
      ]
     },
     "execution_count": 8,
     "metadata": {},
     "output_type": "execute_result"
    },
    {
     "data": {
      "image/png": "[encoded data removed]",
      "text/plain": [
       "<Figure size 432x288 with 2 Axes>"
      ]
     },
     "metadata": {
      "needs_background": "light"
     },
     "output_type": "display_data"
    }
   ],
   "source": [
    "#librosa.feature.mfcc(y_cut, n_fft=n_fft, hop_length=512,n_mfcc=128)\n",
    "\n",
    "#spec = librosa.stft(X[1500])\n",
    "sr = 8000\n",
    "S = librosa.feature.melspectrogram(X[1500], sr)\n",
    "\n",
    "fig, ax = plt.subplots()\n",
    "S_dB = librosa.power_to_db(S, ref=np.max)\n",
    "img = librosa.display.specshow(S_dB, x_axis='time',\n",
    "                         y_axis='mel', sr=sr,\n",
    "                         fmax=8000, ax=ax)\n",
    "fig.colorbar(img, ax=ax, format='%+2.0f dB')\n",
    "ax.set(title='Mel-frequency spectrogram')\n",
    "\n",
    "\n",
    "\n"
   ]
  },
  {
   "cell_type": "code",
   "execution_count": 9,
   "metadata": {},
   "outputs": [
    {
     "name": "stderr",
     "output_type": "stream",
     "text": [
      "<ipython-input-5-9d8460ca3c5a>:4: RuntimeWarning: divide by zero encountered in log\n",
      "  log_spec = np.log(spectrogram.T)\n",
      "<ipython-input-5-9d8460ca3c5a>:9: MatplotlibDeprecationWarning: shading='flat' when X and Y have the same dimensions as C is deprecated since 3.3.  Either specify the corners of the quadrilaterals with X and Y, or pass shading='auto', 'nearest' or 'gouraud', or set rcParams['pcolor.shading'].  This will become an error two minor releases later.\n",
      "  ax.pcolormesh(X, Y, log_spec)\n"
     ]
    },
    {
     "data": {
      "image/png": "[encoded data removed]",
      "text/plain": [
       "<Figure size 864x576 with 2 Axes>"
      ]
     },
     "metadata": {
      "needs_background": "light"
     },
     "output_type": "display_data"
    }
   ],
   "source": [
    "waveform = X[0]\n",
    "spectrogram = get_spectrogram(waveform)\n",
    "\n",
    "\n",
    "timescale = np.arange(waveform.shape[0])\n",
    "fig, axes = plt.subplots(2, figsize=(12, 8))\n",
    "axes[0].plot(timescale, waveform)\n",
    "axes[0].set_title('Waveform')\n",
    "axes[0].set_xlim([0, max_size])\n",
    "plot_spectrogram(spectrogram.numpy(), axes[1])\n"
   ]
  },
  {
   "cell_type": "code",
   "execution_count": 10,
   "metadata": {},
   "outputs": [],
   "source": [
    "\n",
    "x_train_spec = []\n",
    "for x in x_train:\n",
    "    x_train_spec.append(get_spectrogram(x))\n",
    "    \n",
    "x_train_spec = np.array(x_train_spec)\n",
    "\n",
    "\n",
    "x_val_spec = []\n",
    "for x in x_val:\n",
    "    x_val_spec.append(get_spectrogram(x))\n",
    "\n",
    "x_val_spec = np.array(x_val_spec)"
   ]
  },
  {
   "cell_type": "code",
   "execution_count": 11,
   "metadata": {},
   "outputs": [],
   "source": [
    "\n",
    "x_train_mel = []\n",
    "for x in x_train:\n",
    "    spec = librosa.feature.melspectrogram(y=x, sr=8000)\n",
    "    x_train_mel.append(librosa.power_to_db(spec, ref=np.max))\n",
    "    \n",
    "x_train_mel = np.array(x_train_mel)\n",
    "\n",
    "\n",
    "x_val_mel = []\n",
    "for x in x_val:\n",
    "    spec = librosa.feature.melspectrogram(y=x, sr=8000)\n",
    "    x_val_mel.append(librosa.power_to_db(spec, ref=np.max))\n",
    "    \n",
    "x_val_mel = np.array(x_val_mel)\n"
   ]
  },
  {
   "cell_type": "code",
   "execution_count": 12,
   "metadata": {},
   "outputs": [],
   "source": [
    "x_train_mfcc = []\n",
    "for x in x_train:\n",
    "    spec = librosa.feature.mfcc(y=x, sr=8000)\n",
    "    x_train_mfcc.append(spec)\n",
    "    \n",
    "x_train_mfcc = np.array(x_train_mfcc)\n",
    "\n",
    "\n",
    "x_val_mfcc = []\n",
    "for x in x_val:\n",
    "    spec = librosa.feature.mfcc(y=x, sr=8000)\n",
    "    x_val_mfcc.append(spec)\n",
    "    \n",
    "x_val_mfcc = np.array(x_val_mfcc)"
   ]
  },
  {
   "cell_type": "code",
   "execution_count": 13,
   "metadata": {},
   "outputs": [
    {
     "name": "stdout",
     "output_type": "stream",
     "text": [
      "(1800, 20, 16)\n",
      "Model: \"sequential\"\n",
      "_________________________________________________________________\n",
      "Layer (type)                 Output Shape              Param #   \n",
      "=================================================================\n",
      "resizing (Resizing)          (None, 32, 32, 1)         0         \n",
      "_________________________________________________________________\n",
      "conv2d (Conv2D)              (None, 30, 30, 32)        320       \n",
      "_________________________________________________________________\n",
      "max_pooling2d (MaxPooling2D) (None, 15, 15, 32)        0         \n",
      "_________________________________________________________________\n",
      "conv2d_1 (Conv2D)            (None, 13, 13, 64)        18496     \n",
      "_________________________________________________________________\n",
      "dropout (Dropout)            (None, 13, 13, 64)        0         \n",
      "_________________________________________________________________\n",
      "flatten (Flatten)            (None, 10816)             0         \n",
      "_________________________________________________________________\n",
      "dense (Dense)                (None, 128)               1384576   \n",
      "_________________________________________________________________\n",
      "dense_1 (Dense)              (None, 10)                1290      \n",
      "=================================================================\n",
      "Total params: 1,404,682\n",
      "Trainable params: 1,404,682\n",
      "Non-trainable params: 0\n",
      "_________________________________________________________________\n"
     ]
    }
   ],
   "source": [
    "#for spectrogram, _ in spectrogram_ds.take(1):\n",
    "#  input_shape = spectrogram.shape\n",
    "#print('Input shape:', input_shape)\n",
    "\n",
    "x_train_cur = x_train_mfcc\n",
    "x_val_cur = x_val_mfcc\n",
    "input_shape = x_train_cur.shape\n",
    "num_labels = 10\n",
    "\n",
    "print(input_shape)\n",
    "\n",
    "#norm_layer = preprocessing.Normalization()\n",
    "#norm_layer.adapt(spectrogram_ds.map(lambda x, _: x))\n",
    "\n",
    "model = models.Sequential([\n",
    "    layers.Input(shape=(*x_train_cur[0].shape, 1)),\n",
    "    preprocessing.Resizing(32, 32), \n",
    "    #norm_layer,\n",
    "    layers.Conv2D(32, 3, activation='relu'),\n",
    "    layers.MaxPooling2D(),\n",
    "    layers.Conv2D(64, 3, activation='relu'),\n",
    "    layers.Dropout(0.7),\n",
    "    layers.Flatten(),\n",
    "    layers.Dense(128, activation='relu'),\n",
    "    layers.Dense(num_labels),\n",
    "])\n",
    "\n",
    "model.summary()"
   ]
  },
  {
   "cell_type": "code",
   "execution_count": 14,
   "metadata": {},
   "outputs": [],
   "source": [
    "model.compile(\n",
    "    optimizer=tf.keras.optimizers.Adam(),\n",
    "    loss=tf.keras.losses.SparseCategoricalCrossentropy(from_logits=True),\n",
    "    metrics=['accuracy'],\n",
    ")"
   ]
  },
  {
   "cell_type": "code",
   "execution_count": 15,
   "metadata": {},
   "outputs": [
    {
     "name": "stdout",
     "output_type": "stream",
     "text": [
      "Epoch 1/25\n",
      "57/57 [==============================] - 3s 45ms/step - loss: 8.7036 - accuracy: 0.2239 - val_loss: 0.9150 - val_accuracy: 0.6983\n",
      "Epoch 2/25\n",
      "57/57 [==============================] - 2s 35ms/step - loss: 0.8821 - accuracy: 0.6950 - val_loss: 0.5937 - val_accuracy: 0.7967\n",
      "Epoch 3/25\n",
      "57/57 [==============================] - 2s 35ms/step - loss: 0.6199 - accuracy: 0.7715 - val_loss: 0.4342 - val_accuracy: 0.8633\n",
      "Epoch 4/25\n",
      "57/57 [==============================] - 2s 34ms/step - loss: 0.5537 - accuracy: 0.8222 - val_loss: 0.4230 - val_accuracy: 0.8733\n",
      "Epoch 5/25\n",
      "57/57 [==============================] - 2s 35ms/step - loss: 0.4268 - accuracy: 0.8571 - val_loss: 0.3681 - val_accuracy: 0.8950\n",
      "Epoch 6/25\n",
      "57/57 [==============================] - 2s 35ms/step - loss: 0.3682 - accuracy: 0.8648 - val_loss: 0.3496 - val_accuracy: 0.9033\n",
      "Epoch 7/25\n",
      "57/57 [==============================] - 2s 36ms/step - loss: 0.3088 - accuracy: 0.8899 - val_loss: 0.3669 - val_accuracy: 0.8933\n",
      "Epoch 8/25\n",
      "57/57 [==============================] - 2s 36ms/step - loss: 0.3105 - accuracy: 0.8927 - val_loss: 0.3725 - val_accuracy: 0.9033\n",
      "Epoch 9/25\n",
      "57/57 [==============================] - 2s 36ms/step - loss: 0.2555 - accuracy: 0.9096 - val_loss: 0.3905 - val_accuracy: 0.8967\n",
      "Epoch 10/25\n",
      "57/57 [==============================] - 2s 35ms/step - loss: 0.2579 - accuracy: 0.9125 - val_loss: 0.3318 - val_accuracy: 0.9067\n",
      "Epoch 11/25\n",
      "57/57 [==============================] - 2s 36ms/step - loss: 0.2342 - accuracy: 0.9109 - val_loss: 0.3580 - val_accuracy: 0.9050\n",
      "Epoch 12/25\n",
      "57/57 [==============================] - 2s 35ms/step - loss: 0.1965 - accuracy: 0.9307 - val_loss: 0.3415 - val_accuracy: 0.9033\n",
      "Epoch 13/25\n",
      "57/57 [==============================] - 2s 37ms/step - loss: 0.1890 - accuracy: 0.9412 - val_loss: 0.3252 - val_accuracy: 0.9083\n",
      "Epoch 14/25\n",
      "57/57 [==============================] - 2s 35ms/step - loss: 0.1885 - accuracy: 0.9329 - val_loss: 0.3385 - val_accuracy: 0.9100\n",
      "Epoch 15/25\n",
      "57/57 [==============================] - 2s 37ms/step - loss: 0.1893 - accuracy: 0.9320 - val_loss: 0.3799 - val_accuracy: 0.8917\n",
      "Epoch 16/25\n",
      "57/57 [==============================] - 2s 35ms/step - loss: 0.1770 - accuracy: 0.9334 - val_loss: 0.3532 - val_accuracy: 0.9167\n",
      "Epoch 17/25\n",
      "57/57 [==============================] - 2s 36ms/step - loss: 0.1811 - accuracy: 0.9303 - val_loss: 0.4050 - val_accuracy: 0.9033\n",
      "Epoch 18/25\n",
      "57/57 [==============================] - 2s 38ms/step - loss: 0.1705 - accuracy: 0.9393 - val_loss: 0.3828 - val_accuracy: 0.9000\n",
      "Epoch 19/25\n",
      "57/57 [==============================] - 2s 36ms/step - loss: 0.1405 - accuracy: 0.9462 - val_loss: 0.3618 - val_accuracy: 0.9067\n",
      "Epoch 20/25\n",
      "57/57 [==============================] - 2s 35ms/step - loss: 0.1261 - accuracy: 0.9491 - val_loss: 0.4171 - val_accuracy: 0.9083\n",
      "Epoch 21/25\n",
      "57/57 [==============================] - 2s 35ms/step - loss: 0.1622 - accuracy: 0.9538 - val_loss: 0.3561 - val_accuracy: 0.9117\n",
      "Epoch 22/25\n",
      "57/57 [==============================] - 2s 36ms/step - loss: 0.1654 - accuracy: 0.9481 - val_loss: 0.4180 - val_accuracy: 0.8983\n",
      "Epoch 23/25\n",
      "57/57 [==============================] - 2s 36ms/step - loss: 0.1536 - accuracy: 0.9473 - val_loss: 0.4122 - val_accuracy: 0.9100\n",
      "Epoch 24/25\n",
      "57/57 [==============================] - 2s 36ms/step - loss: 0.1352 - accuracy: 0.9568 - val_loss: 0.4091 - val_accuracy: 0.9150\n",
      "Epoch 25/25\n",
      "57/57 [==============================] - 2s 36ms/step - loss: 0.1490 - accuracy: 0.9459 - val_loss: 0.3927 - val_accuracy: 0.9133\n"
     ]
    }
   ],
   "source": [
    "EPOCHS = 25\n",
    "history = model.fit(\n",
    "    x_train_cur, \n",
    "    np.array(y_train),\n",
    "    validation_data=(x_val_cur, np.array(y_val)),  \n",
    "    epochs=EPOCHS\n",
    ")# 75ms/st"
   ]
  },
  {
   "cell_type": "code",
   "execution_count": 16,
   "metadata": {},
   "outputs": [
    {
     "data": {
      "image/png": "[encoded data removed]",
      "text/plain": [
       "<Figure size 432x288 with 1 Axes>"
      ]
     },
     "metadata": {
      "needs_background": "light"
     },
     "output_type": "display_data"
    }
   ],
   "source": [
    "metrics = history.history\n",
    "plt.plot(history.epoch, metrics['loss'], metrics['val_loss'])\n",
    "plt.legend(['loss', 'val_loss'])\n",
    "plt.show()"
   ]
  },
  {
   "cell_type": "code",
   "execution_count": null,
   "metadata": {},
   "outputs": [],
   "source": []
  }
 ],
 "metadata": {
  "kernelspec": {
   "display_name": "Python 3",
   "language": "python",
   "name": "python3"
  },
  "language_info": {
   "codemirror_mode": {
    "name": "ipython",
    "version": 3
   },
   "file_extension": ".py",
   "mimetype": "text/x-python",
   "name": "python",
   "nbconvert_exporter": "python",
   "pygments_lexer": "ipython3",
   "version": "3.8.5"
  }
 },
 "nbformat": 4,
 "nbformat_minor": 5
}
